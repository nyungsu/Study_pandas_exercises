{
 "cells": [
  {
   "cell_type": "markdown",
   "metadata": {},
   "source": [
    "# MPG Cars"
   ]
  },
  {
   "cell_type": "markdown",
   "metadata": {},
   "source": [
    "### Introduction:\n",
    "\n",
    "The following exercise utilizes data from [UC Irvine Machine Learning Repository](https://archive.ics.uci.edu/ml/datasets/Auto+MPG)\n",
    "\n",
    "### Step 1. Import the necessary libraries"
   ]
  },
  {
   "cell_type": "code",
   "execution_count": 1,
   "metadata": {
    "collapsed": false
   },
   "outputs": [],
   "source": [
    "import pandas as pd\n",
    "import numpy as np"
   ]
  },
  {
   "cell_type": "markdown",
   "metadata": {},
   "source": [
    "### Step 2. Import the first dataset [cars1](https://raw.githubusercontent.com/guipsamora/pandas_exercises/master/05_Merge/Auto_MPG/cars1.csv) and [cars2](https://raw.githubusercontent.com/guipsamora/pandas_exercises/master/05_Merge/Auto_MPG/cars2.csv).  "
   ]
  },
  {
   "cell_type": "markdown",
   "metadata": {},
   "source": [
    "   ### Step 3. Assign each to a variable called cars1 and cars2"
   ]
  },
  {
   "cell_type": "code",
   "execution_count": 2,
   "metadata": {
    "collapsed": false
   },
   "outputs": [
    {
     "name": "stdout",
     "output_type": "stream",
     "text": [
      "df1 shape : (198, 14)\n",
      "df2 shape : (200, 9)\n"
     ]
    }
   ],
   "source": [
    "url1 = f'https://raw.githubusercontent.com/guipsamora/pandas_exercises/master/05_Merge/Auto_MPG/cars1.csv'\n",
    "url2 = f'https://raw.githubusercontent.com/guipsamora/pandas_exercises/master/05_Merge/Auto_MPG/cars2.csv'\n",
    "\n",
    "df1 = pd.read_csv(url1)\n",
    "df2 = pd.read_csv(url2)\n",
    "\n",
    "print(f'df1 shape : {df1.shape}')\n",
    "print(f'df2 shape : {df2.shape}')"
   ]
  },
  {
   "cell_type": "markdown",
   "metadata": {},
   "source": [
    "### Step 4. Oops, it seems our first dataset has some unnamed blank columns, fix cars1"
   ]
  },
  {
   "cell_type": "code",
   "execution_count": 5,
   "metadata": {},
   "outputs": [
    {
     "data": {
      "text/plain": [
       "Index(['mpg', 'cylinders', 'displacement', 'horsepower', 'weight',\n",
       "       'acceleration', 'model', 'origin', 'car', 'Unnamed: 9', 'Unnamed: 10',\n",
       "       'Unnamed: 11', 'Unnamed: 12', 'Unnamed: 13'],\n",
       "      dtype='object')"
      ]
     },
     "execution_count": 5,
     "metadata": {},
     "output_type": "execute_result"
    }
   ],
   "source": [
    "df1.columns"
   ]
  },
  {
   "cell_type": "code",
   "execution_count": 7,
   "metadata": {},
   "outputs": [],
   "source": [
    "df1 = df1.loc[:,'mpg':'car']"
   ]
  },
  {
   "cell_type": "markdown",
   "metadata": {},
   "source": [
    "### Step 5. What is the number of observations in each dataset?"
   ]
  },
  {
   "cell_type": "code",
   "execution_count": 9,
   "metadata": {
    "collapsed": false
   },
   "outputs": [
    {
     "name": "stdout",
     "output_type": "stream",
     "text": [
      "(198, 9)\n",
      "(200, 9)\n"
     ]
    }
   ],
   "source": [
    "print(df1.shape)\n",
    "print(df2.shape)"
   ]
  },
  {
   "cell_type": "markdown",
   "metadata": {},
   "source": [
    "### Step 6. Join cars1 and cars2 into a single DataFrame called cars"
   ]
  },
  {
   "cell_type": "code",
   "execution_count": 12,
   "metadata": {
    "collapsed": false
   },
   "outputs": [
    {
     "data": {
      "text/plain": [
       "(398, 9)"
      ]
     },
     "execution_count": 12,
     "metadata": {},
     "output_type": "execute_result"
    }
   ],
   "source": [
    "cars = pd.concat([df1,df2],axis=0)\n",
    "cars.shape"
   ]
  },
  {
   "cell_type": "markdown",
   "metadata": {},
   "source": [
    "### Step 7. Oops, there is a column missing, called owners. Create a random number Series from 15,000 to 73,000."
   ]
  },
  {
   "cell_type": "code",
   "execution_count": 15,
   "metadata": {
    "collapsed": false
   },
   "outputs": [
    {
     "data": {
      "text/plain": [
       "array([40268, 67683, 26687, 31028, 63119, 28329, 66310, 37916, 18266,\n",
       "       66019, 42945, 30474, 37285, 42500, 44382, 15234, 58408, 51116,\n",
       "       55880, 32209, 62641, 50406, 31548, 49533, 26696, 20632, 16201,\n",
       "       67250, 42777, 69360, 40205, 16627, 33609, 48310, 60997, 57242,\n",
       "       56768, 39774, 39689, 46374, 70088, 60852, 25622, 44657, 42970,\n",
       "       34272, 27841, 72328, 39552, 69763, 22990, 43469, 59051, 49421,\n",
       "       43078, 68197, 16300, 40025, 19367, 39831, 46305, 21179, 28835,\n",
       "       50368, 57265, 33863, 28512, 61067, 15340, 45601, 23262, 57593,\n",
       "       49191, 60377, 49956, 33434, 35562, 18658, 46340, 20295, 27354,\n",
       "       50576, 67054, 27347, 31989, 55872, 30498, 57118, 17124, 51352,\n",
       "       65092, 54714, 31194, 41565, 49444, 56945, 31520, 34702, 18176,\n",
       "       59213, 21859, 41024, 54168, 60389, 35154, 29101, 39935, 22950,\n",
       "       38579, 51606, 50925, 39498, 56032, 54899, 26412, 23969, 28463,\n",
       "       28189, 46987, 39618, 15251, 32758, 60379, 47053, 19027, 23448,\n",
       "       69119, 44641, 67892, 26843, 72031, 64728, 45124, 58255, 48832,\n",
       "       38295, 17629, 61933, 30523, 50029, 45796, 38467, 42464, 18511,\n",
       "       42774, 19503, 33859, 21865, 69704, 48061, 25545, 39789, 46689,\n",
       "       27102, 38253, 27262, 23375, 58478, 55517, 50134, 27676, 31063,\n",
       "       22689, 31886, 49241, 66607, 40100, 35182, 20599, 30576, 20098,\n",
       "       47383, 66819, 21602, 43368, 51174, 62639, 54124, 42510, 66419,\n",
       "       56668, 59829, 67951, 29263, 38072, 31755, 17517, 28660, 65908,\n",
       "       44124, 25969, 17647, 42997, 26135, 25304, 72413, 43005, 58723,\n",
       "       72761, 28221, 42402, 66950, 48686, 42377, 59169, 15078, 41624,\n",
       "       15005, 26971, 31094, 40993, 20322, 51589, 65639, 71119, 44653,\n",
       "       38458, 30820, 32815, 49994, 18867, 40072, 60570, 69886, 55242,\n",
       "       50527, 20831, 31807, 47494, 49503, 45336, 42532, 66336, 17912,\n",
       "       57894, 69277, 70544, 18380, 28788, 48842, 46335, 44089, 67149,\n",
       "       33435, 68235, 66534, 60964, 38437, 37068, 34744, 18229, 23431,\n",
       "       62630, 27915, 28024, 63167, 43654, 24900, 37132, 28644, 66531,\n",
       "       61450, 58900, 37551, 67443, 31283, 20424, 63687, 59554, 60508,\n",
       "       67221, 30933, 53377, 51374, 39027, 19334, 41628, 41734, 38389,\n",
       "       64951, 17955, 31667, 56650, 44472, 41132, 24128, 34278, 42896,\n",
       "       41525, 69606, 20010, 67722, 58110, 53292, 33331, 64647, 33413,\n",
       "       51867, 47744, 67227, 45589, 68427, 52800, 35164, 32984, 60762,\n",
       "       58395, 31953, 46377, 60915, 39587, 23618, 71367, 71283, 21704,\n",
       "       66947, 69530, 48840, 20411, 44858, 61417, 52079, 70558, 42881,\n",
       "       68915, 51978, 17351, 15745, 41533, 61848, 27761, 53523, 62659,\n",
       "       49509, 37937, 25103, 64562, 26480, 24778, 16308, 46407, 23320,\n",
       "       65355, 58699, 39620, 37694, 24514, 46334, 26016, 71242, 52832,\n",
       "       20529, 38480, 18217, 18248, 22106, 32964, 56629, 70422, 45031,\n",
       "       28081, 49935, 33760, 69423, 42417, 36527, 55038, 43848, 65040,\n",
       "       33419, 68199, 58057, 16528, 56751, 54349, 61758, 66556, 34081,\n",
       "       58510, 27418, 42211, 71760, 65916, 54133, 29826, 66126, 62561,\n",
       "       72119, 65182, 57808, 67841, 62477, 39713, 26927, 68601, 55577,\n",
       "       70290, 35464])"
      ]
     },
     "execution_count": 15,
     "metadata": {},
     "output_type": "execute_result"
    }
   ],
   "source": [
    "np.random.randint(15000,73000,cars.shape[0])"
   ]
  },
  {
   "cell_type": "markdown",
   "metadata": {},
   "source": [
    "### Step 8. Add the column owners to cars"
   ]
  },
  {
   "cell_type": "code",
   "execution_count": 17,
   "metadata": {
    "collapsed": false
   },
   "outputs": [],
   "source": [
    "cars['owners'] = np.random.randint(15000,73000,cars.shape[0])"
   ]
  },
  {
   "cell_type": "code",
   "execution_count": null,
   "metadata": {},
   "outputs": [],
   "source": []
  }
 ],
 "metadata": {
  "anaconda-cloud": {},
  "kernelspec": {
   "display_name": "base",
   "language": "python",
   "name": "python3"
  },
  "language_info": {
   "codemirror_mode": {
    "name": "ipython",
    "version": 3
   },
   "file_extension": ".py",
   "mimetype": "text/x-python",
   "name": "python",
   "nbconvert_exporter": "python",
   "pygments_lexer": "ipython3",
   "version": "3.9.13"
  },
  "vscode": {
   "interpreter": {
    "hash": "d7288e82646d3164eca24130947288f8779d11454649f2c02a5dfc42af7f324c"
   }
  }
 },
 "nbformat": 4,
 "nbformat_minor": 0
}
